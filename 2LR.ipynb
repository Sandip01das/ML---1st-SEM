{
  "metadata": {
    "kernelspec": {
      "name": "python",
      "display_name": "Python (Pyodide)",
      "language": "python"
    },
    "language_info": {
      "codemirror_mode": {
        "name": "python",
        "version": 3
      },
      "file_extension": ".py",
      "mimetype": "text/x-python",
      "name": "python",
      "nbconvert_exporter": "python",
      "pygments_lexer": "ipython3",
      "version": "3.8"
    }
  },
  "nbformat_minor": 4,
  "nbformat": 4,
  "cells": [
    {
      "cell_type": "code",
      "source": "import numpy as np\nimport pandas as pd\nfrom sklearn.model_selection import train_test_split\nfrom sklearn.preprocessing import StandardScaler, MinMaxScaler\nfrom sklearn.metrics import accuracy_score\nfrom sklearn.metrics import confusion_matrix\n\ndata = pd.read_csv('PatientDetails_Classification.csv')\n#data = pd.read_csv('diabetes.csv')\ndata=data.drop('Patient Name',axis=1)\nX = data.drop(columns='TARGET').values\n#X = data.drop(columns='Outcome').values\ny = data['TARGET'].values\n#y = data['Outcome'].values\nX_train, X_test, y_train, y_test = train_test_split(X, y, test_size=0.2, random_state=56)\n\nclass LogisticRegression:\n\n    def __init__(self, lr=0.001, n_iters=10000):\n        self.lr = lr\n        self.n_iters = n_iters\n        self.w = None\n        self.b = None\n        \n    def sigmoid(self, x):\n        return 1 / (1 + np.exp(-x))\n\n    def fit(self, X, y):\n        n_samples, n_features = X.shape\n        self.w = np.zeros(n_features)\n        self.b = 0\n\n        for _ in range(self.n_iters):\n            linear_pred = np.dot(X, self.w) + self.b\n            predictions = self.sigmoid(linear_pred)\n\n            dw = (1/n_samples) * np.dot(X.T, (predictions - y))\n            db = (1/n_samples) * np.sum(predictions - y)\n\n            self.w = self.w - self.lr * dw\n            self.b = self.b - self.lr * db\n            \n            \n    def predict(self, X):\n        linear_pred = np.dot(X, self.w) + self.b\n        y_pred = self.sigmoid(linear_pred)\n        class_pred = [1 if y > 0.5 else 0 for y in y_pred]\n        return class_pred\n\n\nscaler=MinMaxScaler()\nX_train_scaled=scaler.fit_transform(X_train)\nX_test_scaled=scaler.transform(X_test)\nmodel = LogisticRegression(lr=0.001, n_iters=10000)\nmodel.fit(X_train_scaled, y_train)\npredictions = model.predict(X_test_scaled)\n\naccuracy = accuracy_score(y_test, predictions)\nprint(\"Logistic Regression Accuracy:\", accuracy)\n\ncm=confusion_matrix(y_test,predictions)\ntp=cm[0][0]\nfp=cm[0][1]\nfn=cm[1][0]\ntn=cm[1][1]\nprint(tp)\nprint(fp)\nprint(fn)\nprint(tn)\n\naccuracy=(tp+tn)/(tp+fp+tn+fn)\nprint(accuracy)\n",
      "metadata": {
        "trusted": true
      },
      "outputs": [
        {
          "name": "stdout",
          "text": "Logistic Regression Accuracy: 0.8333333333333334\n0\n1\n0\n5\n0.8333333333333334\n",
          "output_type": "stream"
        }
      ],
      "execution_count": 1
    },
    {
      "cell_type": "code",
      "source": "",
      "metadata": {
        "trusted": true
      },
      "outputs": [],
      "execution_count": null
    }
  ]
}