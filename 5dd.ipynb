{
  "metadata": {
    "kernelspec": {
      "name": "python",
      "display_name": "Python (Pyodide)",
      "language": "python"
    },
    "language_info": {
      "codemirror_mode": {
        "name": "python",
        "version": 3
      },
      "file_extension": ".py",
      "mimetype": "text/x-python",
      "name": "python",
      "nbconvert_exporter": "python",
      "pygments_lexer": "ipython3",
      "version": "3.8"
    }
  },
  "nbformat_minor": 4,
  "nbformat": 4,
  "cells": [
    {
      "cell_type": "code",
      "source": "import pandas as pd\nimport numpy as np\nfrom sklearn.model_selection import train_test_split\nfrom sklearn.metrics import accuracy_score\n\n#data = pd.read_csv(\"play_tennis.csv\")\ndata=pd.read_csv(\"DLBCL-2.csv\")\n#data = data.drop('day',axis=1)\nX = data.drop(columns=['target'])\ny = data['target']\ndata['target'] = data['target'].map({'DLBCL': 0, 'FL': 1})\n\ndata.head(15)\n\ndef entropy(y):\n    value_counts = y.value_counts()\n    probabilities = value_counts / len(y)\n    entropy_value = -np.sum(probabilities * np.log2(probabilities.replace(0, 1)))\n    return entropy_value\nentropy(y)\n\ndef information_gain(y, feature):\n\n    total_entropy = entropy(y)\n    \n    unique_values = feature.unique()\n    weighted_entropies = 0\n\n    for value in unique_values:\n        subset_y = y[feature == value]\n        weighted_entropies += (len(subset_y) / len(y)) * entropy(subset_y)\n\n    return total_entropy - weighted_entropies\n\nfor column in data.columns:\n    if column != 'target':\n        feature = data[column]\n        ig = information_gain(y, feature)\n        print(f\"Feature: {column}, Information Gain: {ig:.4f}\")\n\nclass Node:\n    def __init__(self, feature=None, value=None, entropy=None, information_gain=None, left=None, right=None):\n        self.feature = feature\n        self.value = value\n        self.entropy = entropy\n        self.information_gain = information_gain\n        self.left = left\n        self.right = right\n\ndef build_decision_tree(X, y):\n    if entropy(y) == 0:\n        # If all instances have the same class, create a leaf node\n        return Node(value=y.iloc[0])\n\n    if X.empty:\n        # If no features left, create a leaf node with the majority class\n        return Node(value=y.value_counts().idxmax())\n\n    # Find the best feature to split on\n    best_feature = None\n    max_info_gain = 0\n\n    for feature_name in X.columns:\n        current_info_gain = information_gain(y, X[feature_name])\n        if current_info_gain > max_info_gain:\n            max_info_gain = current_info_gain\n            best_feature = feature_name\n\n    # Create a node with the best feature\n    node = Node(feature=best_feature, entropy=entropy(y), information_gain=max_info_gain, value={})\n\n    # Recursively build the left and right subtrees\n    unique_values = X[best_feature].unique()\n    for value in unique_values:\n        subset_X = X[X[best_feature] == value].drop(columns=[best_feature])\n        subset_y = y[X[best_feature] == value]\n        child_node = build_decision_tree(subset_X, subset_y)\n\n        if node.value is None:\n            node.value = {value: child_node}\n        else:\n            node.value[value] = child_node\n\n    return node\n\ndecision_tree = build_decision_tree(X, y)\n\n\ndef predict(node, instance):\n  if node.feature is None:\n    return node.value  # Assuming 'value' holds the final class label here\n  else:\n    value = instance[node.feature]\n    if value in node.value:\n      return predict(node.value[value], instance)\n    else:\n      # Handle unseen feature values (return default class)\n      return y_train.value_counts().idxmax()  # Assuming 'y_train' holds the training target variable\n\n\nX_train, X_test, y_train, y_test = train_test_split(X, y, test_size=0.2, random_state=42)\n\ndecision_tree = build_decision_tree(X_train, y_train)\ny_pred = [predict(decision_tree, instance) for _, instance in X_test.iterrows()]\n\naccuracy_score = accuracy_score(y_test, y_pred)\nprint(f\"Accuracy: {accuracy_score:.2f}\")\n\nfrom sklearn.metrics import confusion_matrix\ncm=confusion_matrix(y_test,y_pred)\ntp=cm[0][0]\nfp=cm[0][1]\nfn=cm[1][0]\ntn=cm[1][1]\nprint (tp,fp,fn,tn)\nacc=(tp+tn)/(tp+tn+fp+fn)\nprint (acc)",
      "metadata": {
        "trusted": true
      },
      "outputs": [
        {
          "name": "stdout",
          "text": "Feature: 200754_x_at, Information Gain: 0.9353\nFeature: 217879_at, Information Gain: 0.9353\nFeature: 210616_s_at, Information Gain: 0.9353\nFeature: 212718_at, Information Gain: 0.9353\nFeature: 209140_x_at, Information Gain: 0.9353\nFeature: 209140_x_at.1, Information Gain: 0.9353\nFeature: 222607_s_at, Information Gain: 0.9353\nFeature: 216526_x_at, Information Gain: 0.9353\nFeature: 217913_at, Information Gain: 0.9353\nFeature: 1554078_s_at, Information Gain: 0.9353\nFeature: 212870_at, Information Gain: 0.9353\nFeature: 212239_at, Information Gain: 0.9353\nAccuracy: 0.65\n15 0 8 0\n0.6521739130434783\n",
          "output_type": "stream"
        }
      ],
      "execution_count": 31
    },
    {
      "cell_type": "code",
      "source": "y_test",
      "metadata": {
        "trusted": true
      },
      "outputs": [
        {
          "execution_count": 23,
          "output_type": "execute_result",
          "data": {
            "text/plain": "78     1\n10     0\n4      0\n84     1\n64     0\n68     0\n30     0\n45     0\n96     1\n11     0\n79     1\n80     1\n0      0\n81     1\n18     0\n70     0\n56     0\n72     1\n109    1\n42     0\n12     0\n36     0\n65     0\nName: target, dtype: int64"
          },
          "metadata": {}
        }
      ],
      "execution_count": 23
    },
    {
      "cell_type": "code",
      "source": "y_train",
      "metadata": {
        "trusted": true
      },
      "outputs": [
        {
          "execution_count": 24,
          "output_type": "execute_result",
          "data": {
            "text/plain": "26     0\n22     0\n31     0\n47     0\n76     1\n      ..\n106    1\n14     0\n92     1\n51     0\n102    1\nName: target, Length: 88, dtype: int64"
          },
          "metadata": {}
        }
      ],
      "execution_count": 24
    },
    {
      "cell_type": "code",
      "source": "y_pred",
      "metadata": {
        "trusted": true
      },
      "outputs": [
        {
          "execution_count": 25,
          "output_type": "execute_result",
          "data": {
            "text/plain": "[0, 0, 0, 0, 0, 0, 0, 0, 0, 0, 0, 0, 0, 0, 0, 0, 0, 0, 0, 0, 0, 0, 0]"
          },
          "metadata": {}
        }
      ],
      "execution_count": 25
    },
    {
      "cell_type": "code",
      "source": "data.head()",
      "metadata": {
        "trusted": true
      },
      "outputs": [
        {
          "execution_count": 19,
          "output_type": "execute_result",
          "data": {
            "text/plain": "   200754_x_at  217879_at  210616_s_at  212718_at  209140_x_at  209140_x_at.1  \\\n0           13         10           11         13           15             15   \n1           13         10           11         12           14             14   \n2           13         10           11         12           15             15   \n3           13         10           11         12           14             14   \n4           13         10           11         12           15             15   \n\n   222607_s_at  216526_x_at  217913_at  1554078_s_at  212870_at  212239_at  \\\n0            9           15         10            11         10         10   \n1           10           14         10            11         10         10   \n2           10           15         10            10         10         10   \n3           10           14         10            10         10         10   \n4           10           15          9            10         10          9   \n\n   target  \n0     NaN  \n1     NaN  \n2     NaN  \n3     NaN  \n4     NaN  ",
            "text/html": "<div>\n<style scoped>\n    .dataframe tbody tr th:only-of-type {\n        vertical-align: middle;\n    }\n\n    .dataframe tbody tr th {\n        vertical-align: top;\n    }\n\n    .dataframe thead th {\n        text-align: right;\n    }\n</style>\n<table border=\"1\" class=\"dataframe\">\n  <thead>\n    <tr style=\"text-align: right;\">\n      <th></th>\n      <th>200754_x_at</th>\n      <th>217879_at</th>\n      <th>210616_s_at</th>\n      <th>212718_at</th>\n      <th>209140_x_at</th>\n      <th>209140_x_at.1</th>\n      <th>222607_s_at</th>\n      <th>216526_x_at</th>\n      <th>217913_at</th>\n      <th>1554078_s_at</th>\n      <th>212870_at</th>\n      <th>212239_at</th>\n      <th>target</th>\n    </tr>\n  </thead>\n  <tbody>\n    <tr>\n      <th>0</th>\n      <td>13</td>\n      <td>10</td>\n      <td>11</td>\n      <td>13</td>\n      <td>15</td>\n      <td>15</td>\n      <td>9</td>\n      <td>15</td>\n      <td>10</td>\n      <td>11</td>\n      <td>10</td>\n      <td>10</td>\n      <td>NaN</td>\n    </tr>\n    <tr>\n      <th>1</th>\n      <td>13</td>\n      <td>10</td>\n      <td>11</td>\n      <td>12</td>\n      <td>14</td>\n      <td>14</td>\n      <td>10</td>\n      <td>14</td>\n      <td>10</td>\n      <td>11</td>\n      <td>10</td>\n      <td>10</td>\n      <td>NaN</td>\n    </tr>\n    <tr>\n      <th>2</th>\n      <td>13</td>\n      <td>10</td>\n      <td>11</td>\n      <td>12</td>\n      <td>15</td>\n      <td>15</td>\n      <td>10</td>\n      <td>15</td>\n      <td>10</td>\n      <td>10</td>\n      <td>10</td>\n      <td>10</td>\n      <td>NaN</td>\n    </tr>\n    <tr>\n      <th>3</th>\n      <td>13</td>\n      <td>10</td>\n      <td>11</td>\n      <td>12</td>\n      <td>14</td>\n      <td>14</td>\n      <td>10</td>\n      <td>14</td>\n      <td>10</td>\n      <td>10</td>\n      <td>10</td>\n      <td>10</td>\n      <td>NaN</td>\n    </tr>\n    <tr>\n      <th>4</th>\n      <td>13</td>\n      <td>10</td>\n      <td>11</td>\n      <td>12</td>\n      <td>15</td>\n      <td>15</td>\n      <td>10</td>\n      <td>15</td>\n      <td>9</td>\n      <td>10</td>\n      <td>10</td>\n      <td>9</td>\n      <td>NaN</td>\n    </tr>\n  </tbody>\n</table>\n</div>"
          },
          "metadata": {}
        }
      ],
      "execution_count": 19
    },
    {
      "cell_type": "code",
      "source": "import pandas as pd\n",
      "metadata": {
        "trusted": true
      },
      "outputs": [],
      "execution_count": 2
    },
    {
      "cell_type": "code",
      "source": "data=pd.read_csv(\"DLBCL-2.csv\")",
      "metadata": {
        "trusted": true
      },
      "outputs": [],
      "execution_count": 13
    },
    {
      "cell_type": "code",
      "source": "data.head()",
      "metadata": {
        "trusted": true
      },
      "outputs": [
        {
          "execution_count": 14,
          "output_type": "execute_result",
          "data": {
            "text/plain": "   200754_x_at  217879_at  210616_s_at  212718_at  209140_x_at  209140_x_at.1  \\\n0       13.178     10.223       11.207     13.433       15.752         15.752   \n1       13.457     10.815       11.597     12.175       14.721         14.721   \n2       13.297     10.134       11.051     12.370       15.206         15.206   \n3       13.695     10.394       11.005     12.796       14.832         14.832   \n4       13.711     10.106       11.357     12.427       15.296         15.296   \n\n   222607_s_at  216526_x_at  217913_at  1554078_s_at  212870_at  212239_at  \\\n0        9.707       15.517     10.525        11.283     10.691     10.267   \n1       10.116       14.705     10.549        11.100     10.340     10.535   \n2       10.738       15.441     10.333        10.768     10.590     10.897   \n3       10.713       14.917     10.293        10.941     10.365     10.292   \n4       10.069       15.412      9.961        10.317     10.463      9.941   \n\n   target  \n0       0  \n1       0  \n2       0  \n3       0  \n4       0  ",
            "text/html": "<div>\n<style scoped>\n    .dataframe tbody tr th:only-of-type {\n        vertical-align: middle;\n    }\n\n    .dataframe tbody tr th {\n        vertical-align: top;\n    }\n\n    .dataframe thead th {\n        text-align: right;\n    }\n</style>\n<table border=\"1\" class=\"dataframe\">\n  <thead>\n    <tr style=\"text-align: right;\">\n      <th></th>\n      <th>200754_x_at</th>\n      <th>217879_at</th>\n      <th>210616_s_at</th>\n      <th>212718_at</th>\n      <th>209140_x_at</th>\n      <th>209140_x_at.1</th>\n      <th>222607_s_at</th>\n      <th>216526_x_at</th>\n      <th>217913_at</th>\n      <th>1554078_s_at</th>\n      <th>212870_at</th>\n      <th>212239_at</th>\n      <th>target</th>\n    </tr>\n  </thead>\n  <tbody>\n    <tr>\n      <th>0</th>\n      <td>13.178</td>\n      <td>10.223</td>\n      <td>11.207</td>\n      <td>13.433</td>\n      <td>15.752</td>\n      <td>15.752</td>\n      <td>9.707</td>\n      <td>15.517</td>\n      <td>10.525</td>\n      <td>11.283</td>\n      <td>10.691</td>\n      <td>10.267</td>\n      <td>0</td>\n    </tr>\n    <tr>\n      <th>1</th>\n      <td>13.457</td>\n      <td>10.815</td>\n      <td>11.597</td>\n      <td>12.175</td>\n      <td>14.721</td>\n      <td>14.721</td>\n      <td>10.116</td>\n      <td>14.705</td>\n      <td>10.549</td>\n      <td>11.100</td>\n      <td>10.340</td>\n      <td>10.535</td>\n      <td>0</td>\n    </tr>\n    <tr>\n      <th>2</th>\n      <td>13.297</td>\n      <td>10.134</td>\n      <td>11.051</td>\n      <td>12.370</td>\n      <td>15.206</td>\n      <td>15.206</td>\n      <td>10.738</td>\n      <td>15.441</td>\n      <td>10.333</td>\n      <td>10.768</td>\n      <td>10.590</td>\n      <td>10.897</td>\n      <td>0</td>\n    </tr>\n    <tr>\n      <th>3</th>\n      <td>13.695</td>\n      <td>10.394</td>\n      <td>11.005</td>\n      <td>12.796</td>\n      <td>14.832</td>\n      <td>14.832</td>\n      <td>10.713</td>\n      <td>14.917</td>\n      <td>10.293</td>\n      <td>10.941</td>\n      <td>10.365</td>\n      <td>10.292</td>\n      <td>0</td>\n    </tr>\n    <tr>\n      <th>4</th>\n      <td>13.711</td>\n      <td>10.106</td>\n      <td>11.357</td>\n      <td>12.427</td>\n      <td>15.296</td>\n      <td>15.296</td>\n      <td>10.069</td>\n      <td>15.412</td>\n      <td>9.961</td>\n      <td>10.317</td>\n      <td>10.463</td>\n      <td>9.941</td>\n      <td>0</td>\n    </tr>\n  </tbody>\n</table>\n</div>"
          },
          "metadata": {}
        }
      ],
      "execution_count": 14
    },
    {
      "cell_type": "code",
      "source": "df.info()",
      "metadata": {
        "trusted": true
      },
      "outputs": [
        {
          "name": "stdout",
          "text": "<class 'pandas.core.frame.DataFrame'>\nRangeIndex: 111 entries, 0 to 110\nData columns (total 13 columns):\n #   Column         Non-Null Count  Dtype  \n---  ------         --------------  -----  \n 0   200754_x_at    111 non-null    float64\n 1   217879_at      111 non-null    float64\n 2   210616_s_at    111 non-null    float64\n 3   212718_at      111 non-null    float64\n 4   209140_x_at    111 non-null    float64\n 5   209140_x_at.1  111 non-null    float64\n 6   222607_s_at    111 non-null    float64\n 7   216526_x_at    111 non-null    float64\n 8   217913_at      111 non-null    float64\n 9   1554078_s_at   111 non-null    float64\n 10  212870_at      111 non-null    float64\n 11  212239_at      111 non-null    float64\n 12  target         111 non-null    object \ndtypes: float64(12), object(1)\nmemory usage: 10.9+ KB\n",
          "output_type": "stream"
        }
      ],
      "execution_count": 6
    },
    {
      "cell_type": "code",
      "source": "data.tail(30)",
      "metadata": {
        "trusted": true
      },
      "outputs": [
        {
          "execution_count": 13,
          "output_type": "execute_result",
          "data": {
            "text/plain": "     200754_x_at  217879_at  210616_s_at  212718_at  209140_x_at  \\\n81        7079.1      828.8       3085.5     7607.0      17783.5   \n82        9168.7      930.8       2092.6     9216.4      39741.5   \n83        8855.4     1546.9       1154.6     8543.2      41566.4   \n84        8807.4     1064.7       2479.5    10767.8      31492.6   \n85        8587.2     1261.5       2166.7     7929.3      31494.1   \n86       10120.4     1016.3       2229.8     8238.5      31373.4   \n87       10801.3     1217.2       1704.3     8704.9      30688.4   \n88       11333.8     1381.9       1836.6    10215.9      31910.8   \n89       11942.6     1353.0       1849.8     7701.4      37913.4   \n90       10566.8     1291.0       1855.6     8676.5      31697.9   \n91        9523.9     1123.6       1953.7     8529.9      32658.8   \n92        9005.7     1049.8       1410.2     7325.4      34983.3   \n93       10461.1     1208.5       1671.5    11203.5      31439.8   \n94       11647.6     1176.4       2085.5    10967.4      37924.0   \n95       13758.4     1080.1       2368.9     8787.5      58100.9   \n96       15551.8     1404.7       1761.6    10784.8      36101.2   \n97       16583.5     1550.2       2111.8     6935.6      44330.3   \n98       11966.9     1532.0       2055.6     8148.6      24333.0   \n99        8147.2     1647.5       1214.5    14532.9      34116.5   \n100       9856.4     1141.3       2292.5     7957.4      34768.9   \n101      10443.8      938.3       2132.8     7887.9      28673.3   \n102      13786.6      826.5       2251.6     8149.3      45675.8   \n103      12951.8      906.2       1899.8     8571.0      46100.2   \n104      11310.7      955.4       2709.3     9410.6      39275.6   \n105      10624.4     1823.2       2209.9     6305.0      36922.4   \n106      11965.0     1283.6       2263.3     8786.4      36016.9   \n107       9891.0     1268.8       2416.4     9286.1      43180.2   \n108       8954.1     1067.7       2176.9    10813.2      41235.3   \n109       9661.1     1115.3       2418.2    11338.9      35951.8   \n110      10414.9     1088.9       2441.4     7697.9      35620.3   \n\n     209140_x_at.1  222607_s_at  216526_x_at  217913_at  1554078_s_at  \\\n81         17783.5        895.4      23226.2     1768.3        1592.8   \n82         39741.5       1088.5      44126.4     1322.4        1661.1   \n83         41566.4       1499.7      41570.3      968.5        2219.9   \n84         31492.6       1079.6      34430.1     1208.9        1891.6   \n85         31494.1       1144.6      32345.8     1149.4        1680.7   \n86         31373.4       1325.3      33882.6     1062.8        1780.0   \n87         30688.4       1767.6      32040.2     1263.4        1960.2   \n88         31910.8       1208.1      33196.8     1149.5        1856.4   \n89         37913.4       1233.4      38911.5     1211.6        1732.0   \n90         31697.9       1340.8      34818.6     1000.1        1540.8   \n91         32658.8       1497.7      34538.7      997.2        1504.8   \n92         34983.3       1310.6      33669.1     1321.5        1587.8   \n93         31439.8       1193.3      32198.3     1262.1        1863.1   \n94         37924.0       1402.9      36368.0     1000.9        1953.9   \n95         58100.9       1188.8      51955.5     1533.1        1961.6   \n96         36101.2       1104.9      34103.3     1353.6        2369.9   \n97         44330.3       1303.8      37707.6     1008.5        2324.1   \n98         24333.0       1462.4      23219.5     1526.2        1478.7   \n99         34116.5       1294.2      33172.4      965.4        2233.0   \n100        34768.9        981.9      34534.0     1061.5        1939.2   \n101        28673.3       1087.5      31589.2     1154.3        1914.8   \n102        45675.8       1215.3      47196.6     1403.2        1691.9   \n103        46100.2       1127.7      51754.8     1696.2        1914.2   \n104        39275.6       1153.8      39843.8     1230.9        1534.9   \n105        36922.4       1031.2      36316.0     1491.9        2287.5   \n106        36016.9       1135.3      38630.1     1298.6        1902.6   \n107        43180.2       1218.4      48077.4      934.4        2382.8   \n108        41235.3       1137.5      41882.8     1175.5        2084.5   \n109        35951.8        909.9      35200.9     1066.6        1983.5   \n110        35620.3       1154.9      37981.6     1012.0        1979.9   \n\n     212870_at  212239_at  target  \n81      1293.4     1106.8       1  \n82      2075.3     2012.5       1  \n83      2093.6     1941.3       1  \n84      2068.5     1678.1       1  \n85      1835.1     1988.3       1  \n86      2424.7     1901.7       1  \n87      2062.8     1664.3       1  \n88      1356.3     1795.1       1  \n89      1303.2     1881.9       1  \n90      1587.0     2218.1       1  \n91      1782.8     2206.3       1  \n92      1780.8     1887.7       1  \n93      2113.4     1407.8       1  \n94      1630.4     1487.1       1  \n95      1086.6     1487.2       1  \n96      1294.3     1597.0       1  \n97      1227.1     1663.5       1  \n98      1927.9     1499.3       1  \n99      1473.6     1870.7       1  \n100     1671.4     1191.0       1  \n101     1641.1     1502.4       1  \n102     1720.8     1545.2       1  \n103     1680.2     1572.6       1  \n104     1806.3     1619.7       1  \n105     1385.7     1365.5       1  \n106     1502.3     1265.8       1  \n107     1835.2     1744.0       1  \n108     1708.9     2132.8       1  \n109     1956.5     1997.3       1  \n110     1829.1     1276.4       1  ",
            "text/html": "<div>\n<style scoped>\n    .dataframe tbody tr th:only-of-type {\n        vertical-align: middle;\n    }\n\n    .dataframe tbody tr th {\n        vertical-align: top;\n    }\n\n    .dataframe thead th {\n        text-align: right;\n    }\n</style>\n<table border=\"1\" class=\"dataframe\">\n  <thead>\n    <tr style=\"text-align: right;\">\n      <th></th>\n      <th>200754_x_at</th>\n      <th>217879_at</th>\n      <th>210616_s_at</th>\n      <th>212718_at</th>\n      <th>209140_x_at</th>\n      <th>209140_x_at.1</th>\n      <th>222607_s_at</th>\n      <th>216526_x_at</th>\n      <th>217913_at</th>\n      <th>1554078_s_at</th>\n      <th>212870_at</th>\n      <th>212239_at</th>\n      <th>target</th>\n    </tr>\n  </thead>\n  <tbody>\n    <tr>\n      <th>81</th>\n      <td>7079.1</td>\n      <td>828.8</td>\n      <td>3085.5</td>\n      <td>7607.0</td>\n      <td>17783.5</td>\n      <td>17783.5</td>\n      <td>895.4</td>\n      <td>23226.2</td>\n      <td>1768.3</td>\n      <td>1592.8</td>\n      <td>1293.4</td>\n      <td>1106.8</td>\n      <td>1</td>\n    </tr>\n    <tr>\n      <th>82</th>\n      <td>9168.7</td>\n      <td>930.8</td>\n      <td>2092.6</td>\n      <td>9216.4</td>\n      <td>39741.5</td>\n      <td>39741.5</td>\n      <td>1088.5</td>\n      <td>44126.4</td>\n      <td>1322.4</td>\n      <td>1661.1</td>\n      <td>2075.3</td>\n      <td>2012.5</td>\n      <td>1</td>\n    </tr>\n    <tr>\n      <th>83</th>\n      <td>8855.4</td>\n      <td>1546.9</td>\n      <td>1154.6</td>\n      <td>8543.2</td>\n      <td>41566.4</td>\n      <td>41566.4</td>\n      <td>1499.7</td>\n      <td>41570.3</td>\n      <td>968.5</td>\n      <td>2219.9</td>\n      <td>2093.6</td>\n      <td>1941.3</td>\n      <td>1</td>\n    </tr>\n    <tr>\n      <th>84</th>\n      <td>8807.4</td>\n      <td>1064.7</td>\n      <td>2479.5</td>\n      <td>10767.8</td>\n      <td>31492.6</td>\n      <td>31492.6</td>\n      <td>1079.6</td>\n      <td>34430.1</td>\n      <td>1208.9</td>\n      <td>1891.6</td>\n      <td>2068.5</td>\n      <td>1678.1</td>\n      <td>1</td>\n    </tr>\n    <tr>\n      <th>85</th>\n      <td>8587.2</td>\n      <td>1261.5</td>\n      <td>2166.7</td>\n      <td>7929.3</td>\n      <td>31494.1</td>\n      <td>31494.1</td>\n      <td>1144.6</td>\n      <td>32345.8</td>\n      <td>1149.4</td>\n      <td>1680.7</td>\n      <td>1835.1</td>\n      <td>1988.3</td>\n      <td>1</td>\n    </tr>\n    <tr>\n      <th>86</th>\n      <td>10120.4</td>\n      <td>1016.3</td>\n      <td>2229.8</td>\n      <td>8238.5</td>\n      <td>31373.4</td>\n      <td>31373.4</td>\n      <td>1325.3</td>\n      <td>33882.6</td>\n      <td>1062.8</td>\n      <td>1780.0</td>\n      <td>2424.7</td>\n      <td>1901.7</td>\n      <td>1</td>\n    </tr>\n    <tr>\n      <th>87</th>\n      <td>10801.3</td>\n      <td>1217.2</td>\n      <td>1704.3</td>\n      <td>8704.9</td>\n      <td>30688.4</td>\n      <td>30688.4</td>\n      <td>1767.6</td>\n      <td>32040.2</td>\n      <td>1263.4</td>\n      <td>1960.2</td>\n      <td>2062.8</td>\n      <td>1664.3</td>\n      <td>1</td>\n    </tr>\n    <tr>\n      <th>88</th>\n      <td>11333.8</td>\n      <td>1381.9</td>\n      <td>1836.6</td>\n      <td>10215.9</td>\n      <td>31910.8</td>\n      <td>31910.8</td>\n      <td>1208.1</td>\n      <td>33196.8</td>\n      <td>1149.5</td>\n      <td>1856.4</td>\n      <td>1356.3</td>\n      <td>1795.1</td>\n      <td>1</td>\n    </tr>\n    <tr>\n      <th>89</th>\n      <td>11942.6</td>\n      <td>1353.0</td>\n      <td>1849.8</td>\n      <td>7701.4</td>\n      <td>37913.4</td>\n      <td>37913.4</td>\n      <td>1233.4</td>\n      <td>38911.5</td>\n      <td>1211.6</td>\n      <td>1732.0</td>\n      <td>1303.2</td>\n      <td>1881.9</td>\n      <td>1</td>\n    </tr>\n    <tr>\n      <th>90</th>\n      <td>10566.8</td>\n      <td>1291.0</td>\n      <td>1855.6</td>\n      <td>8676.5</td>\n      <td>31697.9</td>\n      <td>31697.9</td>\n      <td>1340.8</td>\n      <td>34818.6</td>\n      <td>1000.1</td>\n      <td>1540.8</td>\n      <td>1587.0</td>\n      <td>2218.1</td>\n      <td>1</td>\n    </tr>\n    <tr>\n      <th>91</th>\n      <td>9523.9</td>\n      <td>1123.6</td>\n      <td>1953.7</td>\n      <td>8529.9</td>\n      <td>32658.8</td>\n      <td>32658.8</td>\n      <td>1497.7</td>\n      <td>34538.7</td>\n      <td>997.2</td>\n      <td>1504.8</td>\n      <td>1782.8</td>\n      <td>2206.3</td>\n      <td>1</td>\n    </tr>\n    <tr>\n      <th>92</th>\n      <td>9005.7</td>\n      <td>1049.8</td>\n      <td>1410.2</td>\n      <td>7325.4</td>\n      <td>34983.3</td>\n      <td>34983.3</td>\n      <td>1310.6</td>\n      <td>33669.1</td>\n      <td>1321.5</td>\n      <td>1587.8</td>\n      <td>1780.8</td>\n      <td>1887.7</td>\n      <td>1</td>\n    </tr>\n    <tr>\n      <th>93</th>\n      <td>10461.1</td>\n      <td>1208.5</td>\n      <td>1671.5</td>\n      <td>11203.5</td>\n      <td>31439.8</td>\n      <td>31439.8</td>\n      <td>1193.3</td>\n      <td>32198.3</td>\n      <td>1262.1</td>\n      <td>1863.1</td>\n      <td>2113.4</td>\n      <td>1407.8</td>\n      <td>1</td>\n    </tr>\n    <tr>\n      <th>94</th>\n      <td>11647.6</td>\n      <td>1176.4</td>\n      <td>2085.5</td>\n      <td>10967.4</td>\n      <td>37924.0</td>\n      <td>37924.0</td>\n      <td>1402.9</td>\n      <td>36368.0</td>\n      <td>1000.9</td>\n      <td>1953.9</td>\n      <td>1630.4</td>\n      <td>1487.1</td>\n      <td>1</td>\n    </tr>\n    <tr>\n      <th>95</th>\n      <td>13758.4</td>\n      <td>1080.1</td>\n      <td>2368.9</td>\n      <td>8787.5</td>\n      <td>58100.9</td>\n      <td>58100.9</td>\n      <td>1188.8</td>\n      <td>51955.5</td>\n      <td>1533.1</td>\n      <td>1961.6</td>\n      <td>1086.6</td>\n      <td>1487.2</td>\n      <td>1</td>\n    </tr>\n    <tr>\n      <th>96</th>\n      <td>15551.8</td>\n      <td>1404.7</td>\n      <td>1761.6</td>\n      <td>10784.8</td>\n      <td>36101.2</td>\n      <td>36101.2</td>\n      <td>1104.9</td>\n      <td>34103.3</td>\n      <td>1353.6</td>\n      <td>2369.9</td>\n      <td>1294.3</td>\n      <td>1597.0</td>\n      <td>1</td>\n    </tr>\n    <tr>\n      <th>97</th>\n      <td>16583.5</td>\n      <td>1550.2</td>\n      <td>2111.8</td>\n      <td>6935.6</td>\n      <td>44330.3</td>\n      <td>44330.3</td>\n      <td>1303.8</td>\n      <td>37707.6</td>\n      <td>1008.5</td>\n      <td>2324.1</td>\n      <td>1227.1</td>\n      <td>1663.5</td>\n      <td>1</td>\n    </tr>\n    <tr>\n      <th>98</th>\n      <td>11966.9</td>\n      <td>1532.0</td>\n      <td>2055.6</td>\n      <td>8148.6</td>\n      <td>24333.0</td>\n      <td>24333.0</td>\n      <td>1462.4</td>\n      <td>23219.5</td>\n      <td>1526.2</td>\n      <td>1478.7</td>\n      <td>1927.9</td>\n      <td>1499.3</td>\n      <td>1</td>\n    </tr>\n    <tr>\n      <th>99</th>\n      <td>8147.2</td>\n      <td>1647.5</td>\n      <td>1214.5</td>\n      <td>14532.9</td>\n      <td>34116.5</td>\n      <td>34116.5</td>\n      <td>1294.2</td>\n      <td>33172.4</td>\n      <td>965.4</td>\n      <td>2233.0</td>\n      <td>1473.6</td>\n      <td>1870.7</td>\n      <td>1</td>\n    </tr>\n    <tr>\n      <th>100</th>\n      <td>9856.4</td>\n      <td>1141.3</td>\n      <td>2292.5</td>\n      <td>7957.4</td>\n      <td>34768.9</td>\n      <td>34768.9</td>\n      <td>981.9</td>\n      <td>34534.0</td>\n      <td>1061.5</td>\n      <td>1939.2</td>\n      <td>1671.4</td>\n      <td>1191.0</td>\n      <td>1</td>\n    </tr>\n    <tr>\n      <th>101</th>\n      <td>10443.8</td>\n      <td>938.3</td>\n      <td>2132.8</td>\n      <td>7887.9</td>\n      <td>28673.3</td>\n      <td>28673.3</td>\n      <td>1087.5</td>\n      <td>31589.2</td>\n      <td>1154.3</td>\n      <td>1914.8</td>\n      <td>1641.1</td>\n      <td>1502.4</td>\n      <td>1</td>\n    </tr>\n    <tr>\n      <th>102</th>\n      <td>13786.6</td>\n      <td>826.5</td>\n      <td>2251.6</td>\n      <td>8149.3</td>\n      <td>45675.8</td>\n      <td>45675.8</td>\n      <td>1215.3</td>\n      <td>47196.6</td>\n      <td>1403.2</td>\n      <td>1691.9</td>\n      <td>1720.8</td>\n      <td>1545.2</td>\n      <td>1</td>\n    </tr>\n    <tr>\n      <th>103</th>\n      <td>12951.8</td>\n      <td>906.2</td>\n      <td>1899.8</td>\n      <td>8571.0</td>\n      <td>46100.2</td>\n      <td>46100.2</td>\n      <td>1127.7</td>\n      <td>51754.8</td>\n      <td>1696.2</td>\n      <td>1914.2</td>\n      <td>1680.2</td>\n      <td>1572.6</td>\n      <td>1</td>\n    </tr>\n    <tr>\n      <th>104</th>\n      <td>11310.7</td>\n      <td>955.4</td>\n      <td>2709.3</td>\n      <td>9410.6</td>\n      <td>39275.6</td>\n      <td>39275.6</td>\n      <td>1153.8</td>\n      <td>39843.8</td>\n      <td>1230.9</td>\n      <td>1534.9</td>\n      <td>1806.3</td>\n      <td>1619.7</td>\n      <td>1</td>\n    </tr>\n    <tr>\n      <th>105</th>\n      <td>10624.4</td>\n      <td>1823.2</td>\n      <td>2209.9</td>\n      <td>6305.0</td>\n      <td>36922.4</td>\n      <td>36922.4</td>\n      <td>1031.2</td>\n      <td>36316.0</td>\n      <td>1491.9</td>\n      <td>2287.5</td>\n      <td>1385.7</td>\n      <td>1365.5</td>\n      <td>1</td>\n    </tr>\n    <tr>\n      <th>106</th>\n      <td>11965.0</td>\n      <td>1283.6</td>\n      <td>2263.3</td>\n      <td>8786.4</td>\n      <td>36016.9</td>\n      <td>36016.9</td>\n      <td>1135.3</td>\n      <td>38630.1</td>\n      <td>1298.6</td>\n      <td>1902.6</td>\n      <td>1502.3</td>\n      <td>1265.8</td>\n      <td>1</td>\n    </tr>\n    <tr>\n      <th>107</th>\n      <td>9891.0</td>\n      <td>1268.8</td>\n      <td>2416.4</td>\n      <td>9286.1</td>\n      <td>43180.2</td>\n      <td>43180.2</td>\n      <td>1218.4</td>\n      <td>48077.4</td>\n      <td>934.4</td>\n      <td>2382.8</td>\n      <td>1835.2</td>\n      <td>1744.0</td>\n      <td>1</td>\n    </tr>\n    <tr>\n      <th>108</th>\n      <td>8954.1</td>\n      <td>1067.7</td>\n      <td>2176.9</td>\n      <td>10813.2</td>\n      <td>41235.3</td>\n      <td>41235.3</td>\n      <td>1137.5</td>\n      <td>41882.8</td>\n      <td>1175.5</td>\n      <td>2084.5</td>\n      <td>1708.9</td>\n      <td>2132.8</td>\n      <td>1</td>\n    </tr>\n    <tr>\n      <th>109</th>\n      <td>9661.1</td>\n      <td>1115.3</td>\n      <td>2418.2</td>\n      <td>11338.9</td>\n      <td>35951.8</td>\n      <td>35951.8</td>\n      <td>909.9</td>\n      <td>35200.9</td>\n      <td>1066.6</td>\n      <td>1983.5</td>\n      <td>1956.5</td>\n      <td>1997.3</td>\n      <td>1</td>\n    </tr>\n    <tr>\n      <th>110</th>\n      <td>10414.9</td>\n      <td>1088.9</td>\n      <td>2441.4</td>\n      <td>7697.9</td>\n      <td>35620.3</td>\n      <td>35620.3</td>\n      <td>1154.9</td>\n      <td>37981.6</td>\n      <td>1012.0</td>\n      <td>1979.9</td>\n      <td>1829.1</td>\n      <td>1276.4</td>\n      <td>1</td>\n    </tr>\n  </tbody>\n</table>\n</div>"
          },
          "metadata": {}
        }
      ],
      "execution_count": 13
    },
    {
      "cell_type": "code",
      "source": "target='target'\nunique_values = df[target].unique()\n\n# Print the unique values\nprint(unique_values)",
      "metadata": {
        "trusted": true
      },
      "outputs": [
        {
          "name": "stdout",
          "text": "['DLBCL' 'FL']\n",
          "output_type": "stream"
        }
      ],
      "execution_count": 12
    },
    {
      "cell_type": "code",
      "source": "df=pd.read_csv(\"Financial_Coverage-2.csv\")",
      "metadata": {
        "trusted": true
      },
      "outputs": [],
      "execution_count": 20
    },
    {
      "cell_type": "code",
      "source": "df.head()",
      "metadata": {
        "trusted": true
      },
      "outputs": [
        {
          "execution_count": 21,
          "output_type": "execute_result",
          "data": {
            "text/plain": "   age     sex     bmi  children smoker     region      charges\n0   19  female  27.900         0    yes  southwest  16884.92400\n1   18    male  33.770         1     no  southeast   1725.55230\n2   28    male  33.000         3     no  southeast   4449.46200\n3   33    male  22.705         0     no  northwest  21984.47061\n4   32    male  28.880         0     no  northwest   3866.85520",
            "text/html": "<div>\n<style scoped>\n    .dataframe tbody tr th:only-of-type {\n        vertical-align: middle;\n    }\n\n    .dataframe tbody tr th {\n        vertical-align: top;\n    }\n\n    .dataframe thead th {\n        text-align: right;\n    }\n</style>\n<table border=\"1\" class=\"dataframe\">\n  <thead>\n    <tr style=\"text-align: right;\">\n      <th></th>\n      <th>age</th>\n      <th>sex</th>\n      <th>bmi</th>\n      <th>children</th>\n      <th>smoker</th>\n      <th>region</th>\n      <th>charges</th>\n    </tr>\n  </thead>\n  <tbody>\n    <tr>\n      <th>0</th>\n      <td>19</td>\n      <td>female</td>\n      <td>27.900</td>\n      <td>0</td>\n      <td>yes</td>\n      <td>southwest</td>\n      <td>16884.92400</td>\n    </tr>\n    <tr>\n      <th>1</th>\n      <td>18</td>\n      <td>male</td>\n      <td>33.770</td>\n      <td>1</td>\n      <td>no</td>\n      <td>southeast</td>\n      <td>1725.55230</td>\n    </tr>\n    <tr>\n      <th>2</th>\n      <td>28</td>\n      <td>male</td>\n      <td>33.000</td>\n      <td>3</td>\n      <td>no</td>\n      <td>southeast</td>\n      <td>4449.46200</td>\n    </tr>\n    <tr>\n      <th>3</th>\n      <td>33</td>\n      <td>male</td>\n      <td>22.705</td>\n      <td>0</td>\n      <td>no</td>\n      <td>northwest</td>\n      <td>21984.47061</td>\n    </tr>\n    <tr>\n      <th>4</th>\n      <td>32</td>\n      <td>male</td>\n      <td>28.880</td>\n      <td>0</td>\n      <td>no</td>\n      <td>northwest</td>\n      <td>3866.85520</td>\n    </tr>\n  </tbody>\n</table>\n</div>"
          },
          "metadata": {}
        }
      ],
      "execution_count": 21
    },
    {
      "cell_type": "code",
      "source": "",
      "metadata": {
        "trusted": true
      },
      "outputs": [],
      "execution_count": null
    },
    {
      "cell_type": "code",
      "source": "",
      "metadata": {
        "trusted": true
      },
      "outputs": [],
      "execution_count": null
    }
  ]
}