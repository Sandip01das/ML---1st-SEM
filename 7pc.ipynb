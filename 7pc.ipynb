{
  "metadata": {
    "kernelspec": {
      "name": "python",
      "display_name": "Python (Pyodide)",
      "language": "python"
    },
    "language_info": {
      "codemirror_mode": {
        "name": "python",
        "version": 3
      },
      "file_extension": ".py",
      "mimetype": "text/x-python",
      "name": "python",
      "nbconvert_exporter": "python",
      "pygments_lexer": "ipython3",
      "version": "3.8"
    }
  },
  "nbformat_minor": 5,
  "nbformat": 4,
  "cells": [
    {
      "id": "1fe9fe24-6366-4016-9373-1a58c18db798",
      "cell_type": "code",
      "source": "import numpy as np\nimport pandas as pd\nfrom sklearn.preprocessing import LabelEncoder\n\ndef pca(X, num_components):\n\n    cov_matrix = np.cov(X, rowvar=False)\n\n    eigenvalues, eigenvectors = np.linalg.eig(cov_matrix)\n\n    sorted_indices = np.argsort(eigenvalues)[::-1]\n    eigenvalues = eigenvalues[sorted_indices]\n    eigenvectors = eigenvectors[:, sorted_indices]\n\n    # Select the top 'num_components' eigenvectors\n    principal_components = eigenvectors[:, :num_components]\n\n    # Project the standardized data onto the principal components\n    transformed_data = np.dot(X, principal_components)\n\n    return transformed_data, eigenvalues, principal_components\n\ndata = pd.read_csv(\"play_tennis.csv\")\n\n# Convert categorical features to numerical values using label encoding\nlabel_encoder = LabelEncoder()\nfor column in data.select_dtypes(include=['object']).columns:\n    data[column] = label_encoder.fit_transform(data[column])\n\nX = data.drop('play', axis=1).values\ny = data['play'].values\n# Apply PCA\nnum_components = 2\ntransformed_data, eigenvalues, principal_components = pca(X, num_components)\n\nprint(\"Original data shape:\", X.shape)\nprint(\"Transformed data shape:\", transformed_data.shape)\nprint(\"Eigenvalues:\", eigenvalues)\nprint(\"Principal components:\")\nprint(principal_components)\n",
      "metadata": {
        "trusted": true
      },
      "outputs": [
        {
          "name": "stdout",
          "text": "Original data shape: (14, 5)\nTransformed data shape: (14, 2)\nEigenvalues: [17.72778608  0.75207765  0.56455197  0.25996934  0.16264793]\nPrincipal components:\n[[-0.99333695 -0.05833223]\n [-0.00625889 -0.81081696]\n [ 0.1127664  -0.51332595]\n [-0.02117184  0.268104  ]\n [-0.00883338 -0.06156241]]\n",
          "output_type": "stream"
        }
      ],
      "execution_count": 1
    },
    {
      "id": "35c405ab-cc47-4c22-9785-c51dd7559b0d",
      "cell_type": "code",
      "source": "",
      "metadata": {
        "trusted": true
      },
      "outputs": [],
      "execution_count": null
    }
  ]
}