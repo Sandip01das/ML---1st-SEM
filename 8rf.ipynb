{
  "metadata": {
    "kernelspec": {
      "name": "python",
      "display_name": "Python (Pyodide)",
      "language": "python"
    },
    "language_info": {
      "codemirror_mode": {
        "name": "python",
        "version": 3
      },
      "file_extension": ".py",
      "mimetype": "text/x-python",
      "name": "python",
      "nbconvert_exporter": "python",
      "pygments_lexer": "ipython3",
      "version": "3.8"
    }
  },
  "nbformat_minor": 5,
  "nbformat": 4,
  "cells": [
    {
      "id": "08188afe-49d6-49eb-ac5d-fc83b6d4d437",
      "cell_type": "code",
      "source": "import numpy as np\nimport pandas as pd\nfrom sklearn.tree import DecisionTreeClassifier\nfrom sklearn.model_selection import train_test_split\nfrom sklearn.metrics import accuracy_score\nfrom collections import Counter\n\nclass RandomForest:\n    def __init__(self, n_trees=100, max_depth=10, min_samples_split=2):\n        self.n_trees = n_trees\n        self.max_depth = max_depth\n        self.min_samples_split = min_samples_split\n        self.trees = []\n\n    def fit(self, X, y):\n        self.trees = []\n        for _ in range(self.n_trees):\n            tree = DecisionTreeClassifier(max_depth=self.max_depth,min_samples_split=self.min_samples_split)\n            X_sample, y_sample = self.bootstrap_samples(X, y)\n            tree.fit(X_sample, y_sample)\n            self.trees.append(tree)\n\n    def bootstrap_samples(self, X, y):\n    \n        n_samples = X.shape[0]\n        idxs = np.random.choice(n_samples, n_samples, replace=True)\n        X_bootstrapped = X.reset_index(drop=True).iloc[idxs]\n        y_bootstrapped = y.reset_index(drop=True).iloc[idxs]\n        return X_bootstrapped, y_bootstrapped\n\n    \n\n    def most_common_label(self, y):\n        counter = Counter(y)\n        most_common = counter.most_common(1)[0][0]\n        return most_common\n\n    def predict(self, X):\n        predictions = np.array([tree.predict(X) for tree in self.trees])\n        tree_preds = np.swapaxes(predictions, 0, 1)\n        predictions = np.array([self.most_common_label(pred) for pred in tree_preds])\n        return predictions\n\ndf = pd.read_csv('diabetes.csv')\n\nX = df.drop(columns=['Outcome'])\n\ny = df['Outcome']\n\nX_train, X_test, y_train, y_test = train_test_split(X, y, test_size=0.2, random_state=56)\n\nclf = RandomForest()\nclf.fit(X_train, y_train)\n\ny_pred = clf.predict(X_test)\n\naccuracy = accuracy_score(y_test, y_pred)\nprint(\"Accuracy:\", accuracy)\nfrom sklearn.metrics import confusion_matrix\ncm=confusion_matrix(y_test,y_pred)\ntp=cm[0][0]\nfp=cm[0][1]\nfn=cm[1][0]\ntn=cm[1][1]\nprint (tp,fp,fn,tn)\naccuracy=(tp+tn)/(tp+fp+tn+fn)\nprint(\"accuracy is:\",accuracy)",
      "metadata": {
        "trusted": true
      },
      "outputs": [
        {
          "name": "stdout",
          "text": "Accuracy: 0.577922077922078\n61 19 11 27\naccuracy is: 0.7457627118644068\n",
          "output_type": "stream"
        }
      ],
      "execution_count": 1
    },
    {
      "id": "9ae1fd59-c322-4a39-ae73-9af8421c2f2d",
      "cell_type": "code",
      "source": "",
      "metadata": {
        "trusted": true
      },
      "outputs": [],
      "execution_count": null
    }
  ]
}