{
  "metadata": {
    "kernelspec": {
      "name": "python",
      "display_name": "Python (Pyodide)",
      "language": "python"
    },
    "language_info": {
      "codemirror_mode": {
        "name": "python",
        "version": 3
      },
      "file_extension": ".py",
      "mimetype": "text/x-python",
      "name": "python",
      "nbconvert_exporter": "python",
      "pygments_lexer": "ipython3",
      "version": "3.8"
    }
  },
  "nbformat_minor": 5,
  "nbformat": 4,
  "cells": [
    {
      "id": "eaecad16",
      "cell_type": "code",
      "source": "import numpy as np\nimport pandas as pd\n\nclass SVM:\n    def __init__(self, learning_rate=0.01,n_iters=1000):\n        self.lr = learning_rate\n        self.n_iters = n_iters\n        self.w = None\n        self.b = None\n\n    def fit(self, X, y):\n        n_samples, n_features = X.shape\n        self.w = np.zeros(n_features)\n        self.b = 0\n\n        for _ in range(self.n_iters):\n            for idx, x_i in enumerate(X):\n                condition = y[idx] * (np.dot(x_i, self.w) + self.b) >= 1\n                if condition:\n                    self.w -= self.lr * (2 * self.w)\n                else:\n                    self.w -= self.lr * (2*self.w - np.dot(x_i, y[idx]))\n                    self.b -= self.lr * y[idx]\n\n\n    def predict(self, X):\n        prediction = np.dot(X, self.w) + self.b\n        return np.sign(prediction).astype(int)\ndata = pd.read_csv('PatientDetails_Classification.csv')\ndata=data.drop('Patient Name',axis=1)\nX = data.drop(columns='TARGET').values\ny = data['TARGET'].values\n\nfrom sklearn.model_selection import train_test_split\nX_train, X_test, y_train, y_test = train_test_split(X, y, test_size=0.3, random_state=42)\nclf = SVM()\nclf.fit(X_train, y_train)\npredictions = clf.predict(X_test)\nfrom sklearn.metrics import accuracy_score\naccuracy=accuracy_score(y_test,predictions)\nprint(accuracy)\nfrom sklearn.metrics import confusion_matrix\n\ncm=confusion_matrix(y_test,predictions) \ntp=cm[0][0]\nfp=cm[0][1]\nfn=cm[1][0]\ntn=cm[1][1]\nprint(tp)\nprint(fp)\nprint(fn)\nprint(tn)\naccuracy=(tp+tn)/(tp+fp+tn+fn)\nprint(accuracy)\n",
      "metadata": {
        "trusted": true
      },
      "outputs": [
        {
          "name": "stdout",
          "text": "0.875\n0\n1\n0\n7\n0.875\n",
          "output_type": "stream"
        }
      ],
      "execution_count": 2
    },
    {
      "id": "444fdd8f-7c34-4d1a-a935-a4206a6cc86b",
      "cell_type": "code",
      "source": "",
      "metadata": {
        "trusted": true
      },
      "outputs": [],
      "execution_count": null
    }
  ]
}