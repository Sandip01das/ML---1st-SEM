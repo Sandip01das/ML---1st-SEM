{
  "metadata": {
    "kernelspec": {
      "name": "python",
      "display_name": "Python (Pyodide)",
      "language": "python"
    },
    "language_info": {
      "codemirror_mode": {
        "name": "python",
        "version": 3
      },
      "file_extension": ".py",
      "mimetype": "text/x-python",
      "name": "python",
      "nbconvert_exporter": "python",
      "pygments_lexer": "ipython3",
      "version": "3.8"
    }
  },
  "nbformat_minor": 4,
  "nbformat": 4,
  "cells": [
    {
      "cell_type": "code",
      "source": "import numpy as np\n\nweight_1 = 0\nweight_2 = 0\nbias = 0\nlearning_rate = 1\n\ndef activation(yin):\n    if yin > 0:\n        return 1\n    elif yin == 0:\n        return 0\n    else:\n        return -1\n        \nepochs = 100\n\ninput_data = np.array([[1, 1], [1, -1], [-1, 1], [-1, -1]])\ntargets = np.array([1, -1, -1, -1])\n\nfor epoch in range(epochs):\n    for i in range(len(input_data)):\n        yin = bias + weight_1 * input_data[i][0] + weight_2 * input_data[i][1]\n        y = activation(yin)\n        if y != targets[i]:\n            weight_1 += learning_rate * targets[i] * input_data[i][0]\n            weight_2 += learning_rate * targets[i] * input_data[i][1]\n            bias += learning_rate * targets[i]\n\nprint(\"Final weights (w1, w2):\", weight_1, weight_2)\nprint(\"Final bias:\", bias)\n\ndef predict_output(x1, x2):\n    yin = bias + weight_1 * x1 + weight_2 * x2\n    return activation(yin)\n\n# Test the trained perceptron\ntest_data = np.array([[1, 1], [-1, -1]])\nfor x1, x2 in test_data:\n    prediction = predict_output(x1, x2)\n    print(\"Input:\", [x1, x2], \"Predicted Output:\", prediction)",
      "metadata": {
        "trusted": true
      },
      "outputs": [
        {
          "name": "stdout",
          "text": "Final weights (w1, w2): 1 1\nFinal bias: -1\nInput: [1, 1] Predicted Output: 1\nInput: [-1, -1] Predicted Output: -1\n",
          "output_type": "stream"
        }
      ],
      "execution_count": 5
    },
    {
      "cell_type": "code",
      "source": "",
      "metadata": {
        "trusted": true
      },
      "outputs": [],
      "execution_count": null
    }
  ]
}