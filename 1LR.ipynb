{
  "metadata": {
    "kernelspec": {
      "name": "python",
      "display_name": "Python (Pyodide)",
      "language": "python"
    },
    "language_info": {
      "codemirror_mode": {
        "name": "python",
        "version": 3
      },
      "file_extension": ".py",
      "mimetype": "text/x-python",
      "name": "python",
      "nbconvert_exporter": "python",
      "pygments_lexer": "ipython3",
      "version": "3.8"
    }
  },
  "nbformat_minor": 4,
  "nbformat": 4,
  "cells": [
    {
      "cell_type": "code",
      "source": "import pandas as pd\nimport numpy as np\nfrom sklearn.model_selection import train_test_split\nfrom sklearn.preprocessing import StandardScaler, MinMaxScaler\nfrom sklearn.metrics import accuracy_score\ndata = pd.read_csv('Salary.csv')\ndata.head()\ndata['Salary'] = data['Salary'].str.replace(',', '').astype(int)\nX = data['Year of Experience'].values\n\ny = data['Salary'].values\nX_train, X_test, y_train, y_test = train_test_split(X, y, test_size=0.2, random_state=42)\ndef LinearRegression(X_train,y_train):\n    n=0\n    d=0 \n    m = 0\n    c = 0\n    for i in range (X_train.shape[0]):\n        \n        n = n+((X_train[i]-X_train.mean())*(y_train[i]-y_train.mean()))\n        d = d+((X_train[i]-X_train.mean())**2)\n    \n    m = n/d\n    c = y_train.mean()-(m*X_train.mean())\n    \n    return m,c\n\ndef predict(m,c,X_test):\n    y=m*X_test+c\n    return y\nm,c=LinearRegression(X_train,y_train)\nprint(m)\nprint(c)\nprint(predict(m,c,X_test[1]))\nprint(X_test[1])",
      "metadata": {
        "trusted": true
      },
      "outputs": [
        {
          "name": "stdout",
          "text": "9423.815323030976\n25321.583011776813\n71498.2780946286\n4.9\n",
          "output_type": "stream"
        }
      ],
      "execution_count": 1
    },
    {
      "cell_type": "code",
      "source": "",
      "metadata": {
        "trusted": true
      },
      "outputs": [],
      "execution_count": null
    }
  ]
}