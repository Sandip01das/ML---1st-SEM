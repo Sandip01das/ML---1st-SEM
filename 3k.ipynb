{
  "metadata": {
    "kernelspec": {
      "name": "python",
      "display_name": "Python (Pyodide)",
      "language": "python"
    },
    "language_info": {
      "codemirror_mode": {
        "name": "python",
        "version": 3
      },
      "file_extension": ".py",
      "mimetype": "text/x-python",
      "name": "python",
      "nbconvert_exporter": "python",
      "pygments_lexer": "ipython3",
      "version": "3.8"
    }
  },
  "nbformat_minor": 4,
  "nbformat": 4,
  "cells": [
    {
      "cell_type": "code",
      "source": "import pandas as pd\nimport numpy as np\nfrom collections import Counter\nfrom sklearn.model_selection import train_test_split\nfrom sklearn.metrics import accuracy_score\ndata = pd.read_csv('diabetes.csv')\ndata.head()\nX = data.drop(columns='Outcome').values\ny = data['Outcome'].values\nX_train, X_test, y_train, y_test = train_test_split(X, y, test_size=0.25, random_state=42)\n\ndef euclidean_distance(point1, point2):\n    return np.sqrt(np.sum((point1 - point2)**2))\n\ndef knn_predict(X_train, y_train, X_test, k):\n    pred = []\n\n    for test_point in X_test:\n        distances = [euclidean_distance(train_point, test_point) for train_point in X_train]\n        nearest_indices = np.argsort(distances)[:k]\n        nearest_labels = y_train[nearest_indices]\n        \n        # Use majority voting to determine the predicted label\n        mejvoting = Counter(nearest_labels).most_common()[0][0] ##(0,3),(1,2)\n        pred.append(mejvoting)\n    \n    return np.array(pred)\n\n\n# Calculate accuracy\ny_pred=knn_predict(X_train, y_train, X_test, k=7)\naccuracy = accuracy_score(y_test, y_pred)\nprint(f'Accuracy: {accuracy}')\n\nfrom sklearn.metrics import confusion_matrix\ncm=confusion_matrix(y_test,y_pred)\ntp=cm[0][0]\nfp=cm[0][1]\nfn=cm[1][0]\ntn=cm[1][1]\nprint(tp)\nprint(fp)\nprint(fn)\nprint(tn)\naccuracy=(tp+tn)/(tp+fp+tn+fn)\nprint(accuracy)",
      "metadata": {
        "trusted": true
      },
      "outputs": [
        {
          "name": "stdout",
          "text": "Accuracy: 0.5052083333333334\n54\n31\n21\n41\n0.6462585034013606\n",
          "output_type": "stream"
        }
      ],
      "execution_count": 1
    },
    {
      "cell_type": "code",
      "source": "",
      "metadata": {
        "trusted": true
      },
      "outputs": [],
      "execution_count": null
    }
  ]
}